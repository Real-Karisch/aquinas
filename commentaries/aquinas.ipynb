{
 "cells": [
  {
   "cell_type": "code",
   "execution_count": 1,
   "metadata": {},
   "outputs": [],
   "source": [
    "from bs4 import BeautifulSoup\n",
    "import os\n",
    "import re\n",
    "from airium import Airium\n",
    "from copy import deepcopy\n",
    "\n",
    "from sourceHtmlToJson import generateCombinedCommentaryItems, generateBookJson\n",
    "from jsonToWebHtml import *\n",
    "from variables import *"
   ]
  },
  {
   "cell_type": "code",
   "execution_count": 2,
   "metadata": {},
   "outputs": [
    {
     "name": "stdout",
     "output_type": "stream",
     "text": [
      "C:/Users/jackk/Projects/aquinas/commentaries/sourceHtml/psalms/chapter54/psalms54.7.html\n"
     ]
    }
   ],
   "source": [
    "chapter = 54\n",
    "bookName = 'psalms'\n",
    "files = os.listdir(f'./sourceHtml/{bookName}/chapter{chapter}/')\n",
    "largestInChapter = 0\n",
    "for file in files:\n",
    "    search = re.search(f'{bookName}(\\d+)\\.(\\d+)\\.html', file)\n",
    "    if search:\n",
    "        if int(search.group(1)) == chapter:\n",
    "            largestInChapter = max(largestInChapter, int(search.group(2)))\n",
    "\n",
    "largestFile = f\"C:/Users/jackk/Projects/aquinas/commentaries/sourceHtml/{bookName}/chapter{chapter}/{bookName}{chapter}.{largestInChapter}.html\"\n",
    "\n",
    "print(largestFile)\n",
    "\n",
    "with open(largestFile, 'r') as file:\n",
    "    soup = BeautifulSoup(file.read(), 'html.parser')"
   ]
  },
  {
   "cell_type": "code",
   "execution_count": 3,
   "metadata": {},
   "outputs": [
    {
     "name": "stdout",
     "output_type": "stream",
     "text": [
      "First ID: v10058; last ID: v10084\n",
      "Last number: 541\n",
      "Last line: ['Thanks be to God.']\n"
     ]
    }
   ],
   "source": [
    "firstItem = soup.findAll('div', {'class': 'cl'})[2].findAll('vl-r')[0]\n",
    "lastItem = soup.findAll('div', {'class': 'cl'})[2].findAll('vl-r')[-1]\n",
    "lastNum = 0\n",
    "for thing in soup.findAll('div', {'class': 'cl'})[2].findAll('vl-r'):\n",
    "    if re.search('^<b>(\\d+)</b>', ''.join([str(x) for x in thing.findAll('vl-c')[1].contents])):\n",
    "        lastNum = re.search('^<b>(\\d+)</b>', ''.join([str(x) for x in thing.findAll('vl-c')[1].contents])).group(1)\n",
    "    chapterSearch = re.search('^Psalm (\\d+)$', ''.join([str(x) for x in thing.findAll('vl-c')[1].contents]))\n",
    "    #chapterSearch = re.search('^Chapter (\\d+)$', ''.join([str(x) for x in thing.findAll('vl-c')[1].contents]))\n",
    "    if chapterSearch:\n",
    "        if int(chapterSearch.group(1)) != chapter:\n",
    "            print(\"NEW CHAPTER\\n\")\n",
    "\n",
    "print(f\"First ID: {firstItem.get('id')}; last ID: {lastItem.get('id')}\")\n",
    "print(f\"Last number: {lastNum}\")\n",
    "print(f\"Last line: {lastItem.findAll('vl-c')[1].contents}\")"
   ]
  },
  {
   "cell_type": "code",
   "execution_count": 9,
   "metadata": {},
   "outputs": [
    {
     "data": {
      "text/plain": [
       "0"
      ]
     },
     "execution_count": 9,
     "metadata": {},
     "output_type": "execute_result"
    }
   ],
   "source": [
    "length = 100\n",
    "overflowLength = 130\n",
    "\n",
    "int(length / overflowLength)\n"
   ]
  },
  {
   "cell_type": "code",
   "execution_count": 4,
   "metadata": {},
   "outputs": [
    {
     "name": "stdout",
     "output_type": "stream",
     "text": [
      "psalms already exists.\n",
      "job already exists.\n",
      "jeremiah already exists.\n",
      "lamentations already exists.\n",
      "isaiah already exists.\n",
      "matthew1 already exists.\n",
      "matthew2 already exists.\n",
      "john1 already exists.\n",
      "john2 already exists.\n",
      "romans already exists.\n",
      "corinthians1 already exists.\n",
      "corinthians2 already exists.\n",
      "galatians already exists.\n",
      "ephesians already exists.\n",
      "philippians already exists.\n",
      "colossians already exists.\n",
      "thessalonians1 already exists.\n",
      "thessalonians2 already exists.\n",
      "timothy1 already exists.\n",
      "timothy2 already exists.\n",
      "titus already exists.\n",
      "philemon already exists.\n",
      "hebrews already exists.\n",
      "psalms already exists.\n",
      "job already exists.\n",
      "jeremiah already exists.\n",
      "lamentations already exists.\n",
      "isaiah already exists.\n",
      "matthew1 already exists.\n",
      "matthew2 already exists.\n",
      "john1 already exists.\n",
      "john2 already exists.\n",
      "romans already exists.\n",
      "corinthians1 already exists.\n",
      "corinthians2 already exists.\n",
      "galatians already exists.\n",
      "ephesians already exists.\n",
      "philippians already exists.\n",
      "colossians already exists.\n",
      "thessalonians1 already exists.\n",
      "thessalonians2 already exists.\n",
      "timothy1 already exists.\n",
      "timothy2 already exists.\n",
      "titus already exists.\n",
      "philemon already exists.\n",
      "hebrews already exists.\n",
      "psalms already exists.\n",
      "job already exists.\n",
      "jeremiah already exists.\n",
      "lamentations already exists.\n",
      "isaiah already exists.\n",
      "matthew1 already exists.\n",
      "matthew2 already exists.\n",
      "john1 already exists.\n",
      "john2 already exists.\n",
      "romans already exists.\n",
      "corinthians1 already exists.\n",
      "corinthians2 already exists.\n",
      "galatians already exists.\n",
      "ephesians already exists.\n",
      "philippians already exists.\n",
      "colossians already exists.\n",
      "thessalonians1 already exists.\n",
      "thessalonians2 already exists.\n",
      "timothy1 already exists.\n",
      "timothy2 already exists.\n",
      "titus already exists.\n",
      "philemon already exists.\n",
      "hebrews already exists.\n"
     ]
    }
   ],
   "source": [
    "for lectureFormat in ['expand', 'scroll', 'fixed']:\n",
    "    for bookNameShort in bookNameShortToFormalAquinas.keys():\n",
    "        try:\n",
    "            os.mkdir(f'C:/Users/jackk/Projects/website/aquinasCommentary{lectureFormat.capitalize()}/{bookNameShort}')\n",
    "        except:\n",
    "            print(f\"{bookNameShort} already exists.\")"
   ]
  }
 ],
 "metadata": {
  "kernelspec": {
   "display_name": "base",
   "language": "python",
   "name": "python3"
  },
  "language_info": {
   "codemirror_mode": {
    "name": "ipython",
    "version": 3
   },
   "file_extension": ".py",
   "mimetype": "text/x-python",
   "name": "python",
   "nbconvert_exporter": "python",
   "pygments_lexer": "ipython3",
   "version": "3.11.7"
  }
 },
 "nbformat": 4,
 "nbformat_minor": 2
}
