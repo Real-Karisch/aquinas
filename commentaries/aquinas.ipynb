{
 "cells": [
  {
   "cell_type": "code",
   "execution_count": 1,
   "metadata": {},
   "outputs": [],
   "source": [
    "from bs4 import BeautifulSoup\n",
    "import os\n",
    "import re"
   ]
  },
  {
   "cell_type": "code",
   "execution_count": 2,
   "metadata": {},
   "outputs": [
    {
     "name": "stdout",
     "output_type": "stream",
     "text": [
      "C:/Users/jackk/Projects/aquinas/commentaries/sourceHtml/romans/chapter2/romans2.9.html\n"
     ]
    }
   ],
   "source": [
    "chapter = 2\n",
    "files = os.listdir(f'./sourceHtml/romans/chapter{chapter}/')\n",
    "largestInChapter = 0\n",
    "for file in files:\n",
    "    search = re.search('romans(\\d+)\\.(\\d+)\\.html', file)\n",
    "    if search:\n",
    "        if int(search.group(1)) == chapter:\n",
    "            largestInChapter = max(largestInChapter, int(search.group(2)))\n",
    "\n",
    "largestFile = f\"C:/Users/jackk/Projects/aquinas/commentaries/sourceHtml/romans/chapter{chapter}/romans{chapter}.{largestInChapter}.html\"\n",
    "\n",
    "print(largestFile)"
   ]
  },
  {
   "cell_type": "code",
   "execution_count": 3,
   "metadata": {},
   "outputs": [],
   "source": [
    "with open(largestFile, 'r') as file:\n",
    "    raw = file.read()\n",
    "soup = BeautifulSoup(raw, 'html.parser')"
   ]
  },
  {
   "cell_type": "code",
   "execution_count": 4,
   "metadata": {},
   "outputs": [
    {
     "data": {
      "text/plain": [
       "['For man’s greatest good lies in knowing God, in clinging to God, and in being instructed by God: ',\n",
       " <i>blessed is the man whom you teach out of your law</i>,\n",
       " ' (Ps 93:12).']"
      ]
     },
     "execution_count": 4,
     "metadata": {},
     "output_type": "execute_result"
    }
   ],
   "source": [
    "text = soup.findAll('div', {'class': 'cl'})[2]\n",
    "lastText = text.findAll('vl-r')[-1]\n",
    "lastText.findAll('vl-c')[-1].contents"
   ]
  },
  {
   "cell_type": "code",
   "execution_count": 5,
   "metadata": {},
   "outputs": [
    {
     "name": "stdout",
     "output_type": "stream",
     "text": [
      "Beginning tag: v829; ending tag: v864.\n"
     ]
    }
   ],
   "source": [
    "print(f\"Beginning tag: {text.findAll('vl-r')[0].get('id')}; ending tag: {text.findAll('vl-r')[-1].get('id')}.\")"
   ]
  },
  {
   "cell_type": "code",
   "execution_count": null,
   "metadata": {},
   "outputs": [],
   "source": [
    "def generateBookJson():\n",
    "    return\n",
    "\n",
    "def generateChapterJson():\n",
    "    return\n",
    "\n",
    "def generateLectureJson():\n",
    "    return\n",
    "\n",
    "def generateBibleVerseJson():\n",
    "    return\n",
    "\n",
    "def generateCommentaryJson():\n",
    "    return"
   ]
  }
 ],
 "metadata": {
  "kernelspec": {
   "display_name": "base",
   "language": "python",
   "name": "python3"
  },
  "language_info": {
   "codemirror_mode": {
    "name": "ipython",
    "version": 3
   },
   "file_extension": ".py",
   "mimetype": "text/x-python",
   "name": "python",
   "nbconvert_exporter": "python",
   "pygments_lexer": "ipython3",
   "version": "3.11.7"
  }
 },
 "nbformat": 4,
 "nbformat_minor": 2
}
